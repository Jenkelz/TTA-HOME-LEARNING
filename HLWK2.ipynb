{
 "cells": [
  {
   "cell_type": "markdown",
   "metadata": {},
   "source": [
    "TASK 1\n",
    "Write a program that does the following:\n",
    "a) Stores a random number (1 10) in a variable see hint below.\n",
    "b) Asks a user for their name and stores this in a variable.\n",
    "c) Asks a user to guess the number between 1 and 10.\n",
    "d) Tells the user whether they have guessed correctly."
   ]
  },
  {
   "cell_type": "code",
   "execution_count": 2,
   "metadata": {},
   "outputs": [
    {
     "name": "stdout",
     "output_type": "stream",
     "text": [
      "Hello,Kajy\n",
      "Kajy, guess the number between 1-10?\n",
      "your guess is wrong\n"
     ]
    }
   ],
   "source": [
    "import random\n",
    "#Define Variables\n",
    "Number1 = random.randint(1,10)\n",
    "#Get users name and store as a variable\n",
    "user_name = input(\"what is your name\")\n",
    "print(\"Hello,\" + user_name,)\n",
    "#Ask the user to guess the number between  1 and 10\n",
    "\n",
    "print(user_name + \", guess the number between 1-10?\")\n",
    "guess = int(input(\"Guess number?\"))\n",
    "\n",
    "#Tells the user whether they have guessed correctly\n",
    "if  guess == Number1:\n",
    "    print (\"you guessed correctly\")\n",
    "else: \n",
    "    print(\"your guess is wrong\")\n"
   ]
  },
  {
   "cell_type": "markdown",
   "metadata": {},
   "source": [
    "TASK 2\n",
    "Write a program that asks a user for their favourite number between 1\n",
    "and 100 and then tells them a joke based on the number. You should\n",
    "use a minimum of 3 jokes."
   ]
  },
  {
   "cell_type": "code",
   "execution_count": 7,
   "metadata": {},
   "outputs": [
    {
     "name": "stdout",
     "output_type": "stream",
     "text": [
      "WELCOME TO YOUR FAVOURITE GAME\n",
      "Geo favourite number between 1-100 is...\n",
      "89\n",
      "What’s the different between a cat and a comma?\n",
      "A cat has claws at the end of paws;\n",
      "A comma is a pause at the end of a clause.\n"
     ]
    }
   ],
   "source": [
    "print(\"WELCOME TO YOUR FAVOURITE GAME\")\n",
    "User_name = input(\"What is your name?\")\n",
    "print(User_name + \" favourite number between 1-100 is...\")\n",
    "favNum = int(input(\"Please type in your favourite number 1-100 \"))\n",
    "print(int(input(favNum)))\n",
    "\n",
    "if favNum <5:\n",
    "    print('What’s the best thing about Switzerland?\\nI don’t know, but the flag is a big plus.')\n",
    "\n",
    "elif favNum >=5 and favNum <15:\n",
    "    print('Did you hear about the actor who fell through the floorboards?\\nHe was just going through a stage.')\n",
    "\n",
    "elif favNum >=15 and favNum <50:\n",
    "    print('Why don’t scientists trust atoms?\\nBecause they make up everything.')\n",
    "\n",
    "elif favNum >=50 and favNum <75:\n",
    "    print('How do you drown a hipster?\\nThrow him in the mainstream.')\n",
    "\n",
    "elif favNum >=75 and favNum <=100:\n",
    "    print('What’s the different between a cat and a comma?\\nA cat has claws at the end of paws;\\nA comma is a pause at the end of a clause.')\n",
    "\n",
    "else:\n",
    "    print('Out of range! Please try again using numbers 1-100')"
   ]
  },
  {
   "cell_type": "markdown",
   "metadata": {},
   "source": [
    "TASK 3\n",
    "Write a program that allows user to enter their favourite starter, main\n",
    "course, dessert and drink.\n",
    "Concatenate these and output a message which says\n",
    "––“Your favourite\n",
    "meal is ………with a glass of….”"
   ]
  },
  {
   "cell_type": "code",
   "execution_count": 8,
   "metadata": {},
   "outputs": [
    {
     "name": "stdout",
     "output_type": "stream",
     "text": [
      "Okay, just to confirm. Your favourite stater meal is Mint Tea,  Main course ,Pasta and Shrimp Sauce  Dessert ,Vanilla and  Coco pudding and favourite drink,Wine .\n"
     ]
    }
   ],
   "source": [
    "#Define the variables\n",
    "Fav_starter = input(\"What is your fav starter\")\n",
    "Fav_MainCourse = input(\"Main?\")\n",
    "Fav_Dessert = input(\"Dessert?\")\n",
    "Fav_Drink = input(\"Drink?\")\n",
    "\n",
    "print(\"Okay, just to confirm. Your favourite stater meal is \" + Fav_starter, \" Main course ,\" + Fav_MainCourse, \" Dessert ,\" + Fav_Dessert, \"and favourite drink,\" + Fav_Drink,\".\")"
   ]
  },
  {
   "cell_type": "markdown",
   "metadata": {},
   "source": [
    "Task 4\n",
    "A motorbike costs £2000 and loses 10% of its value every year. Using a\n",
    "loop, print the value of the bike every following year until it falls below\n",
    "£1000"
   ]
  },
  {
   "cell_type": "code",
   "execution_count": null,
   "metadata": {},
   "outputs": [],
   "source": [
    "Motorbike_cost = 2000.00\n",
    "cost = Motorbike_cost\n",
    "year = int(input(\"what is the year?\"))\n",
    "\n",
    "print(\"Yearly depreciation of motorbike value:\")\n",
    "\n",
    "while cost >= 1000.0:\n",
    "    print(\"Year \", year, \": \", cost)\n",
    "year = year + 1\n",
    "cost = Motorbike_cost/10"
   ]
  },
  {
   "cell_type": "markdown",
   "metadata": {},
   "source": [
    "Task 5\n",
    "Write a program which will ask for two numbers from a user. Then\n",
    "offer a menu to the user giving them a choice of operator:\n",
    "e.g. Enter “a” if you want to add\n",
    "“b” if you want to subtract\n",
    "Include +,\n",
    "--, /, *, ** square (to the power of). Once the user has\n",
    "selected which operator they wish to use, perform the calculation."
   ]
  },
  {
   "cell_type": "code",
   "execution_count": 6,
   "metadata": {},
   "outputs": [
    {
     "name": "stdout",
     "output_type": "stream",
     "text": [
      "Select two numbers \n",
      "18 * 15 = 270\n"
     ]
    }
   ],
   "source": [
    "print(\"Select two numbers \")\n",
    "Choice1= int(input(\"please enter the 1st number :\"))\n",
    "Choice2= int(input(\"please enter the 2nd number:\"))\n",
    "operator = input(\"To add numbers enter 'a' ; To subtract number enter 'b'; To multiply number enter'c'; To divide number enter 'd'\")\n",
    "\n",
    "if operator == 'a':\n",
    "    answer = Choice1 + Choice2\n",
    "    print(str(Choice1) + \" + \" + str(Choice2) + \" = \" + str(answer))\n",
    "elif operator == 'b':\n",
    "    answer = Choice1 - Choice2\n",
    "    print(str(Choice1) + \" - \" + str(Choice2) + \" = \" + str(answer))\n",
    "elif operator == 'c':\n",
    "    answer = Choice1 * Choice2 \n",
    "    print(str(Choice1) + \" * \" + str(Choice2) + \" = \" + str(answer))\n",
    "\n",
    "else:\n",
    "    print (\"Please, enter a,b or c\")\n",
    "\n",
    "\n",
    "\n"
   ]
  }
 ],
 "metadata": {
  "interpreter": {
   "hash": "4266587e1e8133fe047cd99162d1754f130b7ea8c825c4a59470e40be2e48e7f"
  },
  "kernelspec": {
   "display_name": "Python 3.9.10 64-bit (windows store)",
   "language": "python",
   "name": "python3"
  },
  "language_info": {
   "codemirror_mode": {
    "name": "ipython",
    "version": 3
   },
   "file_extension": ".py",
   "mimetype": "text/x-python",
   "name": "python",
   "nbconvert_exporter": "python",
   "pygments_lexer": "ipython3",
   "version": "3.9.10"
  },
  "orig_nbformat": 4
 },
 "nbformat": 4,
 "nbformat_minor": 2
}
