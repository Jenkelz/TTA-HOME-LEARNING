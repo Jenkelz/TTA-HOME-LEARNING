{
 "cells": [
  {
   "cell_type": "markdown",
   "metadata": {},
   "source": [
    "TASK 1"
   ]
  },
  {
   "cell_type": "code",
   "execution_count": 15,
   "metadata": {},
   "outputs": [
    {
     "name": "stdout",
     "output_type": "stream",
     "text": [
      "6\n"
     ]
    }
   ],
   "source": [
    "# import the random library\n",
    "import random\n",
    "Number1 = random.randint(1, 10)\n",
    "\n",
    "print(Number1)"
   ]
  },
  {
   "cell_type": "code",
   "execution_count": 16,
   "metadata": {},
   "outputs": [
    {
     "name": "stdout",
     "output_type": "stream",
     "text": [
      "what is your name?\n",
      "My name is Adaeze\n"
     ]
    }
   ],
   "source": [
    "#Asks a user for their name and stores this in a variable\n",
    "print (\"what is your name?\")\n",
    "user_name = \"Adaeze\"\n",
    "print(\"My name is \" + user_name)"
   ]
  },
  {
   "cell_type": "code",
   "execution_count": 17,
   "metadata": {},
   "outputs": [
    {
     "name": "stdout",
     "output_type": "stream",
     "text": [
      "Adaeze, guess the number between 1-10 ?\n"
     ]
    }
   ],
   "source": [
    "#Asks a user to guess the number between 1 and 10.\n",
    "print(user_name + \", guess the number between 1-10 ?\")"
   ]
  },
  {
   "cell_type": "code",
   "execution_count": 19,
   "metadata": {},
   "outputs": [
    {
     "name": "stdout",
     "output_type": "stream",
     "text": [
      "9\n"
     ]
    }
   ],
   "source": [
    "#import random function\n",
    "import random\n",
    "#define a variable\n",
    "number_1 = random.randint(1,10)\n",
    "#print the variable\n",
    "print(number_1)\n"
   ]
  },
  {
   "cell_type": "code",
   "execution_count": 25,
   "metadata": {},
   "outputs": [
    {
     "name": "stdout",
     "output_type": "stream",
     "text": [
      "the number is 9\n",
      "yeah\n",
      "yeah\n",
      "yeah\n"
     ]
    }
   ],
   "source": [
    "#Tells the user whether they have guessed correctly\n",
    "a = 9\n",
    "if number_1 == 9:\n",
    "    print(\"the number is 9\")\n",
    "    print(\"yeah\")\n",
    "    print(\"yeah\")\n",
    "    print(\"yeah\")\n",
    "elif number_1 == 8:\n",
    "     print(\"the number is 8\")\n",
    "     print(\"great!\")\n",
    "else:\n",
    "    print(\"number_1 is a different number\")\n",
    "\n",
    "\n",
    "\n"
   ]
  },
  {
   "cell_type": "markdown",
   "metadata": {},
   "source": [
    "TASK 2\n",
    "Write a program that asks a user for their favourite number between 1 \n",
    "and 100 and then tells them a joke based on the number. You should \n",
    "use a minimum of 3 jokes"
   ]
  },
  {
   "cell_type": "code",
   "execution_count": 31,
   "metadata": {},
   "outputs": [
    {
     "name": "stdout",
     "output_type": "stream",
     "text": [
      "Anderson favourite number is ...\n",
      "50\n"
     ]
    }
   ],
   "source": [
    "#Defining variables\n",
    "User_name = \"Anderson\"\n",
    "#Assigning a random number to ascertain favourite number\n",
    "favourite_numbers = random.randint(1, 100)\n",
    "#Output\n",
    "print(User_name  + \" favourite number is ...\")\n",
    "\n",
    "print(favourite_numbers)\n",
    "\n"
   ]
  },
  {
   "cell_type": "code",
   "execution_count": 4,
   "metadata": {},
   "outputs": [
    {
     "name": "stdout",
     "output_type": "stream",
     "text": [
      "I cannot wait to celebrate my 50  wedding anniversary and get pregnant all over again\n",
      "At 50  My Dad didn't know how to prepare coffe! How Sad\n"
     ]
    }
   ],
   "source": [
    "Anderson_fav = \"50\"\n",
    "#Making jokes with the favourite number\n",
    "print(\"I cannot wait to celebrate my \" + Anderson_fav, \" wedding anniversary and get pregnant all over again\")\n",
    "print(\"At \" + Anderson_fav, \" My Dad didn't know how to prepare coffe! How Sad.\")"
   ]
  },
  {
   "cell_type": "markdown",
   "metadata": {},
   "source": [
    "Task 3\n",
    "Write a program that allows user to enter their favourite starter, main \n",
    "course, dessert and drink.\n",
    "Concatenate these and output a message which says – “Your favourite \n",
    "meal is ………with a glass of….”"
   ]
  },
  {
   "cell_type": "code",
   "execution_count": 5,
   "metadata": {},
   "outputs": [
    {
     "name": "stdout",
     "output_type": "stream",
     "text": [
      " Waiter: What would you like to have maám? \n",
      "Customer: Can I have my favourites thicked already?\n",
      "Waiter: Okay, just to confirm. Your favourite stater meal is Deep fried Chicken Wings  Main course ,Pasta in shrimp and mushroom sauce  Desert ,Vaanilla & Red velvet Icecream and favourite drink,Strawberry flavoured Chamdor .\n"
     ]
    }
   ],
   "source": [
    "#Define the variables\n",
    "Fav_starter = (\"Deep fried Chicken Wings\")\n",
    "Fav_MainCourse = (\"Pasta in shrimp and mushroom sauce\")\n",
    "Fav_Dessert = (\"Vaanilla & Red velvet Icecream\")\n",
    "Fav_Drink = (\"Strawberry flavoured Chamdor\")\n",
    "\n",
    "#concatenating these and producing an output, we have\n",
    "print(\" Waiter: What would you like to have maám? \")\n",
    "\n",
    "print(\"Customer: Can I have my favourites thicked already?\")\n",
    "\n",
    "print(\"Waiter: Okay, just to confirm. Your favourite stater meal is \" + Fav_starter, \" Main course ,\" + Fav_MainCourse, \" Desert ,\" + Fav_Dessert, \"and favourite drink,\" + Fav_Drink,\".\")\n",
    "\n"
   ]
  }
 ],
 "metadata": {
  "interpreter": {
   "hash": "4266587e1e8133fe047cd99162d1754f130b7ea8c825c4a59470e40be2e48e7f"
  },
  "kernelspec": {
   "display_name": "Python 3.9.10 64-bit (windows store)",
   "language": "python",
   "name": "python3"
  },
  "language_info": {
   "codemirror_mode": {
    "name": "ipython",
    "version": 3
   },
   "file_extension": ".py",
   "mimetype": "text/x-python",
   "name": "python",
   "nbconvert_exporter": "python",
   "pygments_lexer": "ipython3",
   "version": "3.9.10"
  },
  "orig_nbformat": 4
 },
 "nbformat": 4,
 "nbformat_minor": 2
}
