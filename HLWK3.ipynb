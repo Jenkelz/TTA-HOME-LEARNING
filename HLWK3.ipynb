{
 "cells": [
  {
   "cell_type": "markdown",
   "metadata": {},
   "source": [
    "TASK 1"
   ]
  },
  {
   "cell_type": "code",
   "execution_count": 27,
   "metadata": {},
   "outputs": [],
   "source": [
    "#To create a new text file using the open() function\n",
    "\n",
    "Numbers_file = open(\"numbers.txt\", \"w\")\n",
    "Numbers_file.close()\n"
   ]
  },
  {
   "cell_type": "code",
   "execution_count": 28,
   "metadata": {},
   "outputs": [],
   "source": [
    "#Reading\n",
    "with open(\"numbers.txt\", \"r\") as Numbers_file:\n",
    "    data = Numbers_file.read().replace('\\n', ',')\n",
    "\n",
    "Numbers_file.close()\n"
   ]
  },
  {
   "cell_type": "code",
   "execution_count": 30,
   "metadata": {},
   "outputs": [],
   "source": [
    "# Appending\n",
    "Numbers_file = open(\"numbers.txt\", \"a\")\n",
    "\n",
    "Numbers_file.write(\"Where has it gone?\\n\")\n",
    "\n",
    "Numbers_file.close()\n"
   ]
  },
  {
   "cell_type": "markdown",
   "metadata": {},
   "source": [
    "TASK 2\n",
    "WRITE A PROGRAM, TO ASK STUDENTS FOR THIER PERCENTAGE MARK AND CONVERT THIS TO A GRADE-\n",
    "THE CONVERSION WILL BE DONE IN A FUNCTION CALLED mark_grade"
   ]
  },
  {
   "cell_type": "code",
   "execution_count": 16,
   "metadata": {},
   "outputs": [
    {
     "name": "stdout",
     "output_type": "stream",
     "text": [
      "STUDENT MARK GRADE FUNCTION\n",
      "Jennifer  scored 90 which is equivalent to the grade A \n"
     ]
    }
   ],
   "source": [
    "print(\"STUDENT MARK GRADE FUNCTION\")\n",
    "student_name = str(input(\"what is your name?\"))\n",
    "scores = int(input(\"what is your percentage mark?\"))\n",
    "\n",
    "if scores >= 90 and scores <= 100:\n",
    "    print(student_name, \" scored\" , scores , \"which is equivalent to the grade A \" )\n",
    "elif scores >= 80 and scores <= 89:\n",
    "    print(student_name, \" scored\" , scores , \"which is equivalent to the grade B \" )\n",
    "elif scores >= 70 and scores <= 79:\n",
    "    print(student_name, \" scored\" , scores , \"which is equivalent to the grade C \" )\n",
    "elif scores >= 60 and scores <= 69:\n",
    "    print(student_name, \" scored\" , scores , \"which is equivalent to the grade D \" )\n",
    "elif scores >= 50 and scores <= 59:\n",
    "    print(student_name, \" scored\" , scores , \"which is equivalent to the grade E\" )\n",
    "else:\n",
    "    print(student_name, \"scored\" , scores , \", an F, Hence you failed! \" )\n"
   ]
  },
  {
   "cell_type": "markdown",
   "metadata": {},
   "source": [
    "EXTENSION TO TASK 2\n",
    "Ask the user for their target grade and print this with their mark\n",
    "If their target grade > exam grade display a suitable message\n",
    "If their target grade = exam grade display a suitable message\n",
    "If their target grade < exam grade display a suitable message"
   ]
  },
  {
   "cell_type": "code",
   "execution_count": 22,
   "metadata": {},
   "outputs": [
    {
     "name": "stdout",
     "output_type": "stream",
     "text": [
      "Target score 99 Actual Score 90\n",
      "expected score >= scores\n"
     ]
    }
   ],
   "source": [
    "expected_score = int(input(\"what is your expected score? \"))\n",
    "\n",
    "print(\"Target score\", expected_score , \"Actual Score\", scores)\n",
    "\n",
    "if expected_score >= scores:\n",
    "    print('expected score >= scores')\n",
    "elif expected_score <= scores:\n",
    "    print('expected score <= scores')\n",
    "elif expected_score == scores:\n",
    "    print('expected score == scores')\n",
    "else:\n",
    "    print(\"Error message\")\n"
   ]
  },
  {
   "cell_type": "markdown",
   "metadata": {},
   "source": [
    "HOME LEARNING SESSION 2 TASK 3\n",
    "Write a program which will ask for two numbers\n",
    "from a user. Then offer an option menu to the user\n",
    "giving them a choice of Math’s operators. Once the\n",
    "user has selected which operator they wish to use,\n",
    "perform the calculation by using a procedure and\n",
    "passing parameters.\n"
   ]
  },
  {
   "cell_type": "code",
   "execution_count": null,
   "metadata": {},
   "outputs": [],
   "source": [
    "      "
   ]
  }
 ],
 "metadata": {
  "interpreter": {
   "hash": "4266587e1e8133fe047cd99162d1754f130b7ea8c825c4a59470e40be2e48e7f"
  },
  "kernelspec": {
   "display_name": "Python 3.9.10 64-bit (windows store)",
   "language": "python",
   "name": "python3"
  },
  "language_info": {
   "codemirror_mode": {
    "name": "ipython",
    "version": 3
   },
   "file_extension": ".py",
   "mimetype": "text/x-python",
   "name": "python",
   "nbconvert_exporter": "python",
   "pygments_lexer": "ipython3",
   "version": "3.9.10"
  },
  "orig_nbformat": 4
 },
 "nbformat": 4,
 "nbformat_minor": 2
}
