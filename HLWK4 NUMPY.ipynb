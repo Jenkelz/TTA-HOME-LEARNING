{
 "cells": [
  {
   "cell_type": "markdown",
   "metadata": {},
   "source": [
    "**TASK 1**\n",
    "*Create a 1D array of numbers from 0 to 9*"
   ]
  },
  {
   "cell_type": "code",
   "execution_count": 9,
   "metadata": {},
   "outputs": [
    {
     "name": "stdout",
     "output_type": "stream",
     "text": [
      "[0 1 2 3 4 5 6 7 8 9]\n"
     ]
    }
   ],
   "source": [
    "# A One dimension array of numbers 0-9\n",
    "#import numpy\n",
    "import numpy as np\n",
    "Array = np.arange(10)\n",
    "print(Array)"
   ]
  },
  {
   "cell_type": "markdown",
   "metadata": {},
   "source": [
    "***TASK 2***\n",
    "\n",
    "*Create a 3×3 NumPy array of all Boolean value Trues*"
   ]
  },
  {
   "cell_type": "code",
   "execution_count": 10,
   "metadata": {},
   "outputs": [
    {
     "name": "stdout",
     "output_type": "stream",
     "text": [
      "[[ True  True  True]\n",
      " [ True  True  True]\n",
      " [ True  True  True]]\n"
     ]
    }
   ],
   "source": [
    "#using the np.ones function\n",
    "Bool = np.ones((3,3), dtype=bool)\n",
    "print(Bool)\n"
   ]
  },
  {
   "cell_type": "markdown",
   "metadata": {},
   "source": [
    "***Task 3***\n",
    "*Extract all odd numbers from array of 1-10*"
   ]
  },
  {
   "cell_type": "code",
   "execution_count": 11,
   "metadata": {},
   "outputs": [
    {
     "name": "stdout",
     "output_type": "stream",
     "text": [
      "[1 3 5 7 9]\n"
     ]
    }
   ],
   "source": [
    "#using the np.array  function\n",
    "\n",
    "Odds = np.array([0, 1, 2, 3, 4, 5, 6, 7, 8, 9, 10])\n",
    "Oddss = Odds[Odds % 2 == 1]\n",
    "print(Oddss)"
   ]
  },
  {
   "cell_type": "markdown",
   "metadata": {},
   "source": [
    "***TASK 4***\n",
    "\n",
    "*Replace all odd numbers in an array of 1-10 with the value -1*"
   ]
  },
  {
   "cell_type": "code",
   "execution_count": 12,
   "metadata": {},
   "outputs": [
    {
     "name": "stdout",
     "output_type": "stream",
     "text": [
      "-1\n"
     ]
    }
   ],
   "source": [
    "#Given that \n",
    "Odds = np.array([0, 1, 2, 3, 4, 5, 6, 7, 8, 9, 10])\n",
    "#To replace the values of odds with -1 we have\n",
    "Ods= Odds[Odds % 2 == 1] = -1\n",
    "print(Ods)"
   ]
  },
  {
   "cell_type": "markdown",
   "metadata": {},
   "source": [
    "***OR***"
   ]
  },
  {
   "cell_type": "code",
   "execution_count": 13,
   "metadata": {},
   "outputs": [
    {
     "name": "stdout",
     "output_type": "stream",
     "text": [
      "[ 0 -1  2 -1  4 -1  6 -1  8 -1 10]\n"
     ]
    }
   ],
   "source": [
    "#use the np.where function\n",
    "Oddds = np.where(Odds % 2 == 1, -1, Odds)\n",
    "print(Oddds)"
   ]
  },
  {
   "cell_type": "markdown",
   "metadata": {},
   "source": [
    "***Task 5***\n",
    "\n",
    "*Convert a 1D array to a 2D array with 2 rows*"
   ]
  },
  {
   "cell_type": "code",
   "execution_count": 14,
   "metadata": {},
   "outputs": [
    {
     "name": "stdout",
     "output_type": "stream",
     "text": [
      "[0 1 2 3 4 5 6 7 8 9]\n",
      "[[0 1 2 3 4]\n",
      " [5 6 7 8 9]]\n"
     ]
    }
   ],
   "source": [
    "#To reshape an array, we use the reshape function\n",
    "Arrange = np.arange(10)\n",
    "print(Arrange)\n",
    "#therefore, to reshape\n",
    "Narrange = Arrange.reshape (2,5)\n",
    "print(Narrange)\n"
   ]
  },
  {
   "cell_type": "markdown",
   "metadata": {},
   "source": [
    "***Task 6***\n",
    "\n",
    "*Create two arrays a and b, stack these two arrays vertically use the np.dot and\n",
    "np.sum to calculate totals*"
   ]
  },
  {
   "cell_type": "code",
   "execution_count": 42,
   "metadata": {},
   "outputs": [
    {
     "name": "stdout",
     "output_type": "stream",
     "text": [
      "[[20 21 22 23 24]\n",
      " [25 26 27 28 29]\n",
      " [30 31 32 33 34]\n",
      " [35 36 37 38 39]]\n"
     ]
    }
   ],
   "source": [
    "a = np.arange(20,30).reshape(2,5)\n",
    "\n",
    "b = np.arange(30,40).reshape(2,5)\n",
    "#To print vertically, we use the concatenate function\n",
    "c= np.concatenate([a, b], axis=0)\n",
    "print(c)"
   ]
  },
  {
   "cell_type": "code",
   "execution_count": 47,
   "metadata": {},
   "outputs": [
    {
     "name": "stdout",
     "output_type": "stream",
     "text": [
      "a =  [[1 2 3]\n",
      " [4 5 6]\n",
      " [7 8 9]]\n",
      "b =  [[10 11 12]\n",
      " [13 14 15]\n",
      " [16 17 18]]\n",
      "d =  [[ 84  90  96]\n",
      " [201 216 231]\n",
      " [318 342 366]]\n",
      "sum = 1944\n"
     ]
    }
   ],
   "source": [
    "#using the np.dot and np.sum to calculate totals, we have\n",
    "a = np.arange(1,10).reshape(3,3)\n",
    "\n",
    "b = np.arange(10, 19).reshape(3,3)\n",
    "print(\"a = \" , a )\n",
    "print (\"b = \", b )\n",
    "#using the np.dot function to multiply\n",
    "d = np.dot(a,b)\n",
    "print(\"d = \", d)\n",
    "sum = np.sum(d)\n",
    "print(\"sum =\", sum )"
   ]
  }
 ],
 "metadata": {
  "interpreter": {
   "hash": "69eb92836b941e979072a76c7fcfffe5419cca933cedd02cfafbdfca1a93358c"
  },
  "kernelspec": {
   "display_name": "Python 3.9.10 64-bit",
   "language": "python",
   "name": "python3"
  },
  "language_info": {
   "codemirror_mode": {
    "name": "ipython",
    "version": 3
   },
   "file_extension": ".py",
   "mimetype": "text/x-python",
   "name": "python",
   "nbconvert_exporter": "python",
   "pygments_lexer": "ipython3",
   "version": "3.9.10"
  },
  "orig_nbformat": 4
 },
 "nbformat": 4,
 "nbformat_minor": 2
}
